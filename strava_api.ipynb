{
 "cells": [
  {
   "cell_type": "code",
   "execution_count": 18,
   "metadata": {},
   "outputs": [],
   "source": [
    "import pandas as pd\n",
    "from datetime import datetime\n",
    "from stravalib.client import Client\n",
    "from os import environ as e"
   ]
  },
  {
   "cell_type": "code",
   "execution_count": 23,
   "metadata": {},
   "outputs": [],
   "source": [
    "CLIENT_ID = str(e.get('STRAVA_CLIENT_ID'))\n",
    "CODE = e.get('CODE')\n",
    "CLIENT_SECRET = e.get('STRAVA_CLIENT_SECRET')"
   ]
  },
  {
   "cell_type": "code",
   "execution_count": 20,
   "metadata": {},
   "outputs": [],
   "source": [
    "client = Client()\n",
    "authorize_url = client.authorization_url(\n",
    "    client_id=CLIENT_ID, redirect_uri=\"http://localhost:8282/authorized\"\n",
    ")"
   ]
  },
  {
   "cell_type": "code",
   "execution_count": 24,
   "metadata": {},
   "outputs": [],
   "source": [
    "token_response = client.exchange_code_for_token(\n",
    "    client_id=CLIENT_ID, client_secret=CLIENT_SECRET, code=CODE\n",
    ")\n",
    "access_token = token_response[\"access_token\"]\n",
    "refresh_token = token_response[\"refresh_token\"]\n",
    "expires_at = token_response[\"expires_at\"]"
   ]
  },
  {
   "cell_type": "code",
   "execution_count": 26,
   "metadata": {},
   "outputs": [],
   "source": [
    "client.access_token = access_token"
   ]
  },
  {
   "cell_type": "code",
   "execution_count": 28,
   "metadata": {},
   "outputs": [],
   "source": [
    "out = []\n",
    "for activity in client.get_activities(before=datetime.now(), limit=50):\n",
    "    out.append({\n",
    "        \"name\": activity.name,\n",
    "        \"distance\": activity.distance,\n",
    "        \"elapsed_time\": activity.moving_time,\n",
    "        \"activity_id\": activity.id,\n",
    "        \"link\": f\"https://www.strava.com/activities/{activity.id}\"\n",
    "    })"
   ]
  },
  {
   "cell_type": "code",
   "execution_count": 29,
   "metadata": {},
   "outputs": [
    {
     "data": {
      "text/html": [
       "<div>\n",
       "<style scoped>\n",
       "    .dataframe tbody tr th:only-of-type {\n",
       "        vertical-align: middle;\n",
       "    }\n",
       "\n",
       "    .dataframe tbody tr th {\n",
       "        vertical-align: top;\n",
       "    }\n",
       "\n",
       "    .dataframe thead th {\n",
       "        text-align: right;\n",
       "    }\n",
       "</style>\n",
       "<table border=\"1\" class=\"dataframe\">\n",
       "  <thead>\n",
       "    <tr style=\"text-align: right;\">\n",
       "      <th></th>\n",
       "      <th>name</th>\n",
       "      <th>distance</th>\n",
       "      <th>elapsed_time</th>\n",
       "      <th>activity_id</th>\n",
       "      <th>link</th>\n",
       "    </tr>\n",
       "  </thead>\n",
       "  <tbody>\n",
       "    <tr>\n",
       "      <th>0</th>\n",
       "      <td>Morning Run</td>\n",
       "      <td>9830.2 meter</td>\n",
       "      <td>0 days 01:23:54</td>\n",
       "      <td>9863925475</td>\n",
       "      <td>https://www.strava.com/activities/9863925475</td>\n",
       "    </tr>\n",
       "    <tr>\n",
       "      <th>1</th>\n",
       "      <td>Afternoon Run</td>\n",
       "      <td>6207.5 meter</td>\n",
       "      <td>0 days 00:54:19</td>\n",
       "      <td>9858978927</td>\n",
       "      <td>https://www.strava.com/activities/9858978927</td>\n",
       "    </tr>\n",
       "    <tr>\n",
       "      <th>2</th>\n",
       "      <td>Light Run</td>\n",
       "      <td>5004.8 meter</td>\n",
       "      <td>0 days 00:46:00</td>\n",
       "      <td>9838523963</td>\n",
       "      <td>https://www.strava.com/activities/9838523963</td>\n",
       "    </tr>\n",
       "    <tr>\n",
       "      <th>3</th>\n",
       "      <td>5K PR Attempt</td>\n",
       "      <td>5004.0 meter</td>\n",
       "      <td>0 days 00:29:31</td>\n",
       "      <td>9831642624</td>\n",
       "      <td>https://www.strava.com/activities/9831642624</td>\n",
       "    </tr>\n",
       "    <tr>\n",
       "      <th>4</th>\n",
       "      <td>Easy 24</td>\n",
       "      <td>24081.7 meter</td>\n",
       "      <td>0 days 03:43:18</td>\n",
       "      <td>9818402113</td>\n",
       "      <td>https://www.strava.com/activities/9818402113</td>\n",
       "    </tr>\n",
       "    <tr>\n",
       "      <th>5</th>\n",
       "      <td>Morning Run</td>\n",
       "      <td>6610.5 meter</td>\n",
       "      <td>0 days 00:53:59</td>\n",
       "      <td>9811021650</td>\n",
       "      <td>https://www.strava.com/activities/9811021650</td>\n",
       "    </tr>\n",
       "    <tr>\n",
       "      <th>6</th>\n",
       "      <td>Afternoon Run</td>\n",
       "      <td>4244.0 meter</td>\n",
       "      <td>0 days 00:43:32</td>\n",
       "      <td>9786630090</td>\n",
       "      <td>https://www.strava.com/activities/9786630090</td>\n",
       "    </tr>\n",
       "    <tr>\n",
       "      <th>7</th>\n",
       "      <td>Afternoon Run</td>\n",
       "      <td>7486.7 meter</td>\n",
       "      <td>0 days 01:01:52</td>\n",
       "      <td>9780249655</td>\n",
       "      <td>https://www.strava.com/activities/9780249655</td>\n",
       "    </tr>\n",
       "    <tr>\n",
       "      <th>8</th>\n",
       "      <td>Morning Run</td>\n",
       "      <td>11601.3 meter</td>\n",
       "      <td>0 days 01:37:05</td>\n",
       "      <td>9746184089</td>\n",
       "      <td>https://www.strava.com/activities/9746184089</td>\n",
       "    </tr>\n",
       "    <tr>\n",
       "      <th>9</th>\n",
       "      <td>Morning Run</td>\n",
       "      <td>39173.1 meter</td>\n",
       "      <td>0 days 06:03:45</td>\n",
       "      <td>9727877379</td>\n",
       "      <td>https://www.strava.com/activities/9727877379</td>\n",
       "    </tr>\n",
       "  </tbody>\n",
       "</table>\n",
       "</div>"
      ],
      "text/plain": [
       "            name       distance    elapsed_time  activity_id  \\\n",
       "0    Morning Run   9830.2 meter 0 days 01:23:54   9863925475   \n",
       "1  Afternoon Run   6207.5 meter 0 days 00:54:19   9858978927   \n",
       "2      Light Run   5004.8 meter 0 days 00:46:00   9838523963   \n",
       "3  5K PR Attempt   5004.0 meter 0 days 00:29:31   9831642624   \n",
       "4        Easy 24  24081.7 meter 0 days 03:43:18   9818402113   \n",
       "5    Morning Run   6610.5 meter 0 days 00:53:59   9811021650   \n",
       "6  Afternoon Run   4244.0 meter 0 days 00:43:32   9786630090   \n",
       "7  Afternoon Run   7486.7 meter 0 days 01:01:52   9780249655   \n",
       "8    Morning Run  11601.3 meter 0 days 01:37:05   9746184089   \n",
       "9    Morning Run  39173.1 meter 0 days 06:03:45   9727877379   \n",
       "\n",
       "                                           link  \n",
       "0  https://www.strava.com/activities/9863925475  \n",
       "1  https://www.strava.com/activities/9858978927  \n",
       "2  https://www.strava.com/activities/9838523963  \n",
       "3  https://www.strava.com/activities/9831642624  \n",
       "4  https://www.strava.com/activities/9818402113  \n",
       "5  https://www.strava.com/activities/9811021650  \n",
       "6  https://www.strava.com/activities/9786630090  \n",
       "7  https://www.strava.com/activities/9780249655  \n",
       "8  https://www.strava.com/activities/9746184089  \n",
       "9  https://www.strava.com/activities/9727877379  "
      ]
     },
     "execution_count": 29,
     "metadata": {},
     "output_type": "execute_result"
    }
   ],
   "source": [
    "df = pd.DataFrame(out)\n",
    "df.head(10)"
   ]
  }
 ],
 "metadata": {
  "kernelspec": {
   "display_name": "Python 3",
   "language": "python",
   "name": "python3"
  },
  "language_info": {
   "codemirror_mode": {
    "name": "ipython",
    "version": 3
   },
   "file_extension": ".py",
   "mimetype": "text/x-python",
   "name": "python",
   "nbconvert_exporter": "python",
   "pygments_lexer": "ipython3",
   "version": "3.11.5"
  },
  "orig_nbformat": 4
 },
 "nbformat": 4,
 "nbformat_minor": 2
}
